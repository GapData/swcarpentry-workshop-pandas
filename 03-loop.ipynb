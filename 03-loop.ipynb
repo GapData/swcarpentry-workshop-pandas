{
 "metadata": {
  "name": "",
  "signature": "sha256:f2b28616bf2a686be3e7999cfaf6a0749c6350a9a1a719237681343009b7cfc7"
 },
 "nbformat": 3,
 "nbformat_minor": 0,
 "worksheets": [
  {
   "cells": [
    {
     "cell_type": "heading",
     "level": 2,
     "metadata": {
      "cell_tags": []
     },
     "source": [
      "Analyzing Multiple Data Sets"
     ]
    },
    {
     "cell_type": "markdown",
     "metadata": {
      "cell_tags": []
     },
     "source": [
      "We have created a function called `analyze` that creates graphs of the minimum, average, and maximum daily inflammation rates\n",
      "for a single data set:"
     ]
    },
    {
     "cell_type": "code",
     "collapsed": false,
     "input": [
      "%matplotlib inline\n",
      "\n",
      "import pandas as pd\n",
      "import statsmodels.api as sm\n",
      "import matplotlib.pyplot as plt\n",
      "\n",
      "def fahr_to_celsius(tempF):\n",
      "    \"\"\"Convert fahrenheit to celsius\"\"\"\n",
      "    tempC = (tempF - 32) * 5 / 9.0\n",
      "    return tempC\n",
      "\n",
      "def analyze(data):\n",
      "    \"\"\"Perform regression analysis on mosquito data\n",
      "    \n",
      "    Takes a dataframe as input that includes columns named 'temperature',\n",
      "    'rainfall', and 'mosquitos'.\n",
      "        \n",
      "    Performs a multiple regression to predict the number of mosquitos.\n",
      "    Creates an observed-predicted plot of the result and\n",
      "    returns the parameters of the regression.\n",
      "    \n",
      "    \"\"\"\n",
      "    regr_results = sm.OLS.from_formula('mosquitos ~ temperature + rainfall', data).fit()\n",
      "    parameters = regr_results.params\n",
      "    predicted = parameters['Intercept'] + parameters['temperature'] * data['temperature'] + parameters['rainfall'] * data['rainfall']\n",
      "    plt.figure()\n",
      "    plt.plot(predicted, data['mosquitos'], 'ro')\n",
      "    min_mosquitos, max_mosquitos = min(data['mosquitos']), max(data['mosquitos'])\n",
      "    plt.plot([min_mosquitos, max_mosquitos], [min_mosquitos, max_mosquitos], 'k-')\n",
      "    return parameters"
     ],
     "language": "python",
     "metadata": {
      "cell_tags": []
     },
     "outputs": [],
     "prompt_number": 27
    },
    {
     "cell_type": "markdown",
     "metadata": {
      "cell_tags": []
     },
     "source": [
      "We can use it to analyze other data sets one by one:"
     ]
    },
    {
     "cell_type": "code",
     "collapsed": false,
     "input": [
      "data = pd.read_csv('B2_mosquito_data.csv')\n",
      "data['temperature'] = fahr_to_celsius(data['temperature'])\n",
      "parameters = analyze(data)\n",
      "print parameters"
     ],
     "language": "python",
     "metadata": {
      "cell_tags": []
     },
     "outputs": [
      {
       "output_type": "stream",
       "stream": "stdout",
       "text": [
        "Intercept      27.188887\n",
        "temperature     1.204897\n",
        "rainfall        0.695531\n",
        "dtype: float64\n"
       ]
      },
      {
       "metadata": {},
       "output_type": "display_data",
       "png": "[encoded data removed]",
       "text": [
        "<matplotlib.figure.Figure at 0x7f59fc12d590>"
       ]
      }
     ],
     "prompt_number": 28
    },
    {
     "cell_type": "code",
     "collapsed": false,
     "input": [
      "data['temperature'] = fahr_to_celsius(data['temperature'])\n"
     ],
     "language": "python",
     "metadata": {},
     "outputs": [],
     "prompt_number": 30
    },
    {
     "cell_type": "code",
     "collapsed": false,
     "input": [
      "data.temperature"
     ],
     "language": "python",
     "metadata": {},
     "outputs": [
      {
       "metadata": {},
       "output_type": "pyout",
       "prompt_number": 31,
       "text": [
        "0     28.888889\n",
        "1     24.444444\n",
        "2     27.777778\n",
        "3     30.555556\n",
        "4     25.555556\n",
        "5     28.888889\n",
        "6     25.555556\n",
        "7     30.000000\n",
        "8     24.444444\n",
        "9     31.666667\n",
        "10    29.444444\n",
        "11    27.222222\n",
        "12    23.333333\n",
        "13    31.666667\n",
        "14    28.888889\n",
        "15    27.777778\n",
        "16    25.000000\n",
        "17    28.888889\n",
        "18    29.444444\n",
        "19    26.111111\n",
        "20    21.666667\n",
        "21    27.777778\n",
        "22    25.555556\n",
        "23    32.222222\n",
        "24    24.444444\n",
        "25    25.555556\n",
        "26    22.222222\n",
        "27    25.000000\n",
        "28    26.666667\n",
        "29    29.444444\n",
        "30    28.888889\n",
        "31    26.111111\n",
        "32    25.555556\n",
        "33    28.888889\n",
        "34    21.666667\n",
        "35    21.666667\n",
        "36    24.444444\n",
        "37    27.222222\n",
        "38    22.777778\n",
        "39    21.111111\n",
        "40    26.666667\n",
        "41    21.666667\n",
        "42    25.000000\n",
        "43    23.888889\n",
        "44    25.555556\n",
        "45    30.555556\n",
        "46    26.111111\n",
        "47    29.444444\n",
        "48    23.333333\n",
        "49    25.000000\n",
        "50    31.666667\n",
        "Name: temperature, Length: 51, dtype: float64"
       ]
      }
     ],
     "prompt_number": 31
    },
    {
     "cell_type": "code",
     "collapsed": false,
     "input": [
      "data = pd.read_csv('B2_mosquito_data.csv')\n",
      "\n",
      "data.temperature"
     ],
     "language": "python",
     "metadata": {},
     "outputs": [
      {
       "metadata": {},
       "output_type": "pyout",
       "prompt_number": 29,
       "text": [
        "0     84\n",
        "1     76\n",
        "2     82\n",
        "3     87\n",
        "4     78\n",
        "5     84\n",
        "6     78\n",
        "7     86\n",
        "8     76\n",
        "9     89\n",
        "10    85\n",
        "11    81\n",
        "12    74\n",
        "13    89\n",
        "14    84\n",
        "15    82\n",
        "16    77\n",
        "17    84\n",
        "18    85\n",
        "19    79\n",
        "20    71\n",
        "21    82\n",
        "22    78\n",
        "23    90\n",
        "24    76\n",
        "25    78\n",
        "26    72\n",
        "27    77\n",
        "28    80\n",
        "29    85\n",
        "30    84\n",
        "31    79\n",
        "32    78\n",
        "33    84\n",
        "34    71\n",
        "35    71\n",
        "36    76\n",
        "37    81\n",
        "38    73\n",
        "39    70\n",
        "40    80\n",
        "41    71\n",
        "42    77\n",
        "43    75\n",
        "44    78\n",
        "45    87\n",
        "46    79\n",
        "47    85\n",
        "48    74\n",
        "49    77\n",
        "50    89\n",
        "Name: temperature, Length: 51, dtype: int64"
       ]
      }
     ],
     "prompt_number": 29
    },
    {
     "cell_type": "markdown",
     "metadata": {
      "cell_tags": []
     },
     "source": [
      "but we have a dozen data sets right now and more on the way.\n",
      "We want to create plots for all our data sets with a single statement.\n",
      "To do that,\n",
      "we'll have to teach the computer how to repeat things."
     ]
    },
    {
     "cell_type": "markdown",
     "metadata": {
      "cell_tags": [
       "objectives"
      ]
     },
     "source": [
      "#### Objectives\n",
      "\n",
      "*   Explain what a for loop does.\n",
      "*   Correctly write for loops to repeat simple calculations.\n",
      "*   Trace changes to a loop variable as the loop runs.\n",
      "*   Trace changes to other variables as they are updated by a for loop.\n",
      "*   Explain what a list is.\n",
      "*   Create and index lists of simple values.\n",
      "*   Use a library function to get a list of filenames that match a simple wildcard pattern.\n",
      "*   Use a for loop to process multiple files."
     ]
    },
    {
     "cell_type": "heading",
     "level": 3,
     "metadata": {
      "cell_tags": []
     },
     "source": [
      "For Loops"
     ]
    },
    {
     "cell_type": "markdown",
     "metadata": {
      "cell_tags": []
     },
     "source": [
      "Suppose we want to print each character in the word \"lead\" on a line of its own.\n",
      "One way is to use four `print` statements:"
     ]
    },
    {
     "cell_type": "code",
     "collapsed": false,
     "input": [
      "def print_characters(element):\n",
      "    print element[0]\n",
      "    print element[1]\n",
      "    print element[2]\n",
      "    print element[3]\n",
      "\n",
      "print_characters('lead')"
     ],
     "language": "python",
     "metadata": {
      "cell_tags": []
     },
     "outputs": [
      {
       "output_type": "stream",
       "stream": "stdout",
       "text": [
        "l\n",
        "e\n",
        "a\n",
        "d\n"
       ]
      }
     ],
     "prompt_number": 12
    },
    {
     "cell_type": "markdown",
     "metadata": {
      "cell_tags": []
     },
     "source": [
      "but that's a bad approach for two reasons:\n",
      "\n",
      "1.  It doesn't scale:\n",
      "    if we want to print the characters in a string that's hundreds of letters long,\n",
      "    we'd be better off just typing them in.\n",
      "\n",
      "1.  It's fragile:\n",
      "    if we give it a longer string,\n",
      "    it only prints part of the data,\n",
      "    and if we give it a shorter one,\n",
      "    it produces an error because we're asking for characters that don't exist."
     ]
    },
    {
     "cell_type": "code",
     "collapsed": false,
     "input": [
      "print_characters('tin')"
     ],
     "language": "python",
     "metadata": {},
     "outputs": [
      {
       "ename": "IndexError",
       "evalue": "string index out of range",
       "output_type": "pyerr",
       "traceback": [
        "\u001b[0;31m---------------------------------------------------------------------------\u001b[0m\n\u001b[0;31mIndexError\u001b[0m                                Traceback (most recent call last)",
        "\u001b[0;32m<ipython-input-13-5bc7311e0bf3>\u001b[0m in \u001b[0;36m<module>\u001b[0;34m()\u001b[0m\n\u001b[0;32m----> 1\u001b[0;31m \u001b[0mprint_characters\u001b[0m\u001b[0;34m(\u001b[0m\u001b[0;34m'tin'\u001b[0m\u001b[0;34m)\u001b[0m\u001b[0;34m\u001b[0m\u001b[0m\n\u001b[0m",
        "\u001b[0;32m<ipython-input-12-11460561ea56>\u001b[0m in \u001b[0;36mprint_characters\u001b[0;34m(element)\u001b[0m\n\u001b[1;32m      3\u001b[0m     \u001b[0;32mprint\u001b[0m \u001b[0melement\u001b[0m\u001b[0;34m[\u001b[0m\u001b[0;36m1\u001b[0m\u001b[0;34m]\u001b[0m\u001b[0;34m\u001b[0m\u001b[0m\n\u001b[1;32m      4\u001b[0m     \u001b[0;32mprint\u001b[0m \u001b[0melement\u001b[0m\u001b[0;34m[\u001b[0m\u001b[0;36m2\u001b[0m\u001b[0;34m]\u001b[0m\u001b[0;34m\u001b[0m\u001b[0m\n\u001b[0;32m----> 5\u001b[0;31m     \u001b[0;32mprint\u001b[0m \u001b[0melement\u001b[0m\u001b[0;34m[\u001b[0m\u001b[0;36m3\u001b[0m\u001b[0;34m]\u001b[0m\u001b[0;34m\u001b[0m\u001b[0m\n\u001b[0m\u001b[1;32m      6\u001b[0m \u001b[0;34m\u001b[0m\u001b[0m\n\u001b[1;32m      7\u001b[0m \u001b[0mprint_characters\u001b[0m\u001b[0;34m(\u001b[0m\u001b[0;34m'lead'\u001b[0m\u001b[0;34m)\u001b[0m\u001b[0;34m\u001b[0m\u001b[0m\n",
        "\u001b[0;31mIndexError\u001b[0m: string index out of range"
       ]
      },
      {
       "output_type": "stream",
       "stream": "stdout",
       "text": [
        "t\n",
        "i\n",
        "n\n"
       ]
      }
     ],
     "prompt_number": 13
    },
    {
     "cell_type": "markdown",
     "metadata": {},
     "source": [
      "Here's a better approach:"
     ]
    },
    {
     "cell_type": "code",
     "collapsed": false,
     "input": [
      "def print_characters(element):\n",
      "    for char in element:\n",
      "        print char\n",
      "\n",
      "print_characters('lead')"
     ],
     "language": "python",
     "metadata": {
      "cell_tags": []
     },
     "outputs": [
      {
       "output_type": "stream",
       "stream": "stdout",
       "text": [
        "l\n",
        "e\n",
        "a\n",
        "d\n"
       ]
      }
     ],
     "prompt_number": 8
    },
    {
     "cell_type": "markdown",
     "metadata": {
      "cell_tags": []
     },
     "source": [
      "This is shorter---certainly shorter than something that prints every character in a hundred-letter string---and\n",
      "more robust as well:"
     ]
    },
    {
     "cell_type": "code",
     "collapsed": false,
     "input": [
      "print_characters('oxygen')"
     ],
     "language": "python",
     "metadata": {
      "cell_tags": []
     },
     "outputs": [
      {
       "output_type": "stream",
       "stream": "stdout",
       "text": [
        "o\n",
        "x\n",
        "y\n",
        "g\n",
        "e\n",
        "n\n"
       ]
      }
     ],
     "prompt_number": 9
    },
    {
     "cell_type": "markdown",
     "metadata": {
      "cell_tags": []
     },
     "source": [
      "The improved version of `print_characters` uses a [for loop](../../gloss.html#for-loop)\n",
      "to repeat an operation---in this case, printing---once for each thing in a collection.\n",
      "The general form of a loop is:\n",
      "\n",
      "<pre>\n",
      "<strong>for</strong> <em>variable</em> <strong>in</strong> <em>collection</em><strong>:</strong>\n",
      "    <em>do things with variable</em>\n",
      "</pre>"
     ]
    },
    {
     "cell_type": "markdown",
     "metadata": {
      "cell_tags": []
     },
     "source": [
      "We can call the [loop variable](../../gloss.html#loop-variable) anything we like,\n",
      "but there must be a colon at the end of the line starting the loop,\n",
      "and we must indent the body of the loop.\n",
      "\n",
      "Here's another loop that repeatedly updates a variable:"
     ]
    },
    {
     "cell_type": "code",
     "collapsed": false,
     "input": [
      "length = 0\n",
      "for vowel in 'aeiou':\n",
      "    length = length + 1\n",
      "print 'There are', length, 'vowels'"
     ],
     "language": "python",
     "metadata": {
      "cell_tags": []
     },
     "outputs": [
      {
       "output_type": "stream",
       "stream": "stdout",
       "text": [
        "There are 5 vowels\n"
       ]
      }
     ],
     "prompt_number": 10
    },
    {
     "cell_type": "markdown",
     "metadata": {
      "cell_tags": []
     },
     "source": [
      "It's worth tracing the execution of this little program step by step.\n",
      "Since there are five characters in `'aeiou'`,\n",
      "the statement on line 3 will be executed five times.\n",
      "The first time around,\n",
      "`length` is zero (the value assigned to it on line 1)\n",
      "and `vowel` is `'a'`.\n",
      "The statement adds 1 to the old value of `length`,\n",
      "producing 1,\n",
      "and updates `length` to refer to that new value.\n",
      "The next time around,\n",
      "`vowel` is `'e'` and `length` is 1,\n",
      "so `length` is updated to be 2.\n",
      "After three more updates,\n",
      "`length` is 5;\n",
      "since there is nothing left in `'aeiou'` for Python to process,\n",
      "the loop finishes\n",
      "and the `print` statement on line 4 tells us our final answer.\n",
      "\n",
      "Note that a loop variable is just a variable that's being used to record progress in a loop.\n",
      "It still exists after the loop is over,\n",
      "and we can re-use variables previously defined as loop variables as well:"
     ]
    },
    {
     "cell_type": "code",
     "collapsed": false,
     "input": [
      "letter = 'z'\n",
      "for letter in 'abc':\n",
      "    print letter\n",
      "print 'after the loop, letter is', letter"
     ],
     "language": "python",
     "metadata": {},
     "outputs": [
      {
       "output_type": "stream",
       "stream": "stdout",
       "text": [
        "a\n",
        "b\n",
        "c\n",
        "after the loop, letter is c\n"
       ]
      }
     ],
     "prompt_number": 11
    },
    {
     "cell_type": "markdown",
     "metadata": {
      "cell_tags": []
     },
     "source": [
      "Note also that finding the length of a string is such a common operation\n",
      "that Python actually has a built-in function to do it called `len`:"
     ]
    },
    {
     "cell_type": "code",
     "collapsed": false,
     "input": [
      "print len('aeiou')"
     ],
     "language": "python",
     "metadata": {
      "cell_tags": []
     },
     "outputs": [
      {
       "output_type": "stream",
       "stream": "stdout",
       "text": [
        "5\n"
       ]
      }
     ],
     "prompt_number": 12
    },
    {
     "cell_type": "markdown",
     "metadata": {
      "cell_tags": []
     },
     "source": [
      "`len` is much faster than any function we could write ourselves,\n",
      "and much easier to read than a two-line loop;\n",
      "it will also give us the length of many other things that we haven't met yet,\n",
      "so we should always use it when we can."
     ]
    },
    {
     "cell_type": "markdown",
     "metadata": {
      "cell_tags": [
       "challenges"
      ]
     },
     "source": [
      "#### Challenges\n",
      "\n",
      "1.  Python has a built-in function called `range` that creates a list of numbers:\n",
      "    `range(3)` produces `[0, 1, 2]`, `range(2, 5)` produces `[2, 3, 4]`.\n",
      "    Using `range`,\n",
      "    write a function that prints the $N$ natural numbers:\n",
      "    \n",
      "    ~~~python\n",
      "    print_N(3)\n",
      "    1\n",
      "    2\n",
      "    3\n",
      "    ~~~\n",
      "\n",
      "1.  Exponentiation is built into Python:\n",
      "\n",
      "    ~~~python\n",
      "    print 5**3\n",
      "    125\n",
      "    ~~~\n",
      "    \n",
      "    It also has a function called `pow` that calculates the same value.\n",
      "    Write a function called `expo` that uses a loop to calculate the same result."
     ]
    },
    {
     "cell_type": "heading",
     "level": 3,
     "metadata": {
      "cell_tags": []
     },
     "source": [
      "Lists"
     ]
    },
    {
     "cell_type": "markdown",
     "metadata": {
      "cell_tags": []
     },
     "source": [
      "Just as a `for` loop is a way to do operations many times,\n",
      "a list is a way to store many values.\n",
      "Unlike NumPy arrays,\n",
      "there are built into the language.\n",
      "We create a list by putting values inside square brackets:"
     ]
    },
    {
     "cell_type": "code",
     "collapsed": false,
     "input": [
      "odds = [1, 3, 5, 7]\n",
      "print 'odds are:', odds"
     ],
     "language": "python",
     "metadata": {
      "cell_tags": []
     },
     "outputs": [
      {
       "output_type": "stream",
       "stream": "stdout",
       "text": [
        "odds are: [1, 3, 5, 7]\n"
       ]
      }
     ],
     "prompt_number": 13
    },
    {
     "cell_type": "markdown",
     "metadata": {
      "cell_tags": []
     },
     "source": [
      "We select individual elements from lists by indexing them:"
     ]
    },
    {
     "cell_type": "code",
     "collapsed": false,
     "input": [
      "print 'first and last:', odds[0], odds[-1]"
     ],
     "language": "python",
     "metadata": {
      "cell_tags": []
     },
     "outputs": [
      {
       "output_type": "stream",
       "stream": "stdout",
       "text": [
        "first and last: 1 7\n"
       ]
      }
     ],
     "prompt_number": 14
    },
    {
     "cell_type": "markdown",
     "metadata": {
      "cell_tags": []
     },
     "source": [
      "and if we loop over a list,\n",
      "the loop variable is assigned elements one at a time:"
     ]
    },
    {
     "cell_type": "code",
     "collapsed": false,
     "input": [
      "for number in odds:\n",
      "    print number"
     ],
     "language": "python",
     "metadata": {
      "cell_tags": []
     },
     "outputs": [
      {
       "output_type": "stream",
       "stream": "stdout",
       "text": [
        "1\n",
        "3\n",
        "5\n",
        "7\n"
       ]
      }
     ],
     "prompt_number": 15
    },
    {
     "cell_type": "markdown",
     "metadata": {
      "cell_tags": []
     },
     "source": [
      "There is one important difference between lists and strings:\n",
      "we can change the values in a list,\n",
      "but we cannot change the characters in a string.\n",
      "For example:"
     ]
    },
    {
     "cell_type": "code",
     "collapsed": false,
     "input": [
      "names = ['Newton', 'Darwing', 'Turing'] # typo in Darwin's name\n",
      "print 'names is originally:', names\n",
      "names[1] = 'Darwin' # correct the name\n",
      "print 'final value of names:', names"
     ],
     "language": "python",
     "metadata": {
      "cell_tags": []
     },
     "outputs": [
      {
       "output_type": "stream",
       "stream": "stdout",
       "text": [
        "names is originally: ['Newton', 'Darwing', 'Turing']\n",
        "final value of names: ['Newton', 'Darwin', 'Turing']\n"
       ]
      }
     ],
     "prompt_number": 16
    },
    {
     "cell_type": "markdown",
     "metadata": {
      "cell_tags": []
     },
     "source": [
      "works, but:"
     ]
    },
    {
     "cell_type": "code",
     "collapsed": false,
     "input": [
      "name = 'Bell'\n",
      "name[0] = 'b'"
     ],
     "language": "python",
     "metadata": {
      "cell_tags": []
     },
     "outputs": [
      {
       "ename": "TypeError",
       "evalue": "'str' object does not support item assignment",
       "output_type": "pyerr",
       "traceback": [
        "\u001b[1;31m---------------------------------------------------------------------------\u001b[0m\n\u001b[1;31mTypeError\u001b[0m                                 Traceback (most recent call last)",
        "\u001b[1;32m<ipython-input-17-220df48aeb2e>\u001b[0m in \u001b[0;36m<module>\u001b[1;34m()\u001b[0m\n\u001b[0;32m      1\u001b[0m \u001b[0mname\u001b[0m \u001b[1;33m=\u001b[0m \u001b[1;34m'Bell'\u001b[0m\u001b[1;33m\u001b[0m\u001b[0m\n\u001b[1;32m----> 2\u001b[1;33m \u001b[0mname\u001b[0m\u001b[1;33m[\u001b[0m\u001b[1;36m0\u001b[0m\u001b[1;33m]\u001b[0m \u001b[1;33m=\u001b[0m \u001b[1;34m'b'\u001b[0m\u001b[1;33m\u001b[0m\u001b[0m\n\u001b[0m",
        "\u001b[1;31mTypeError\u001b[0m: 'str' object does not support item assignment"
       ]
      }
     ],
     "prompt_number": 17
    },
    {
     "cell_type": "markdown",
     "metadata": {
      "cell_tags": []
     },
     "source": [
      "does not.\n",
      "\n",
      "> #### Ch-Ch-Ch-Changes\n",
      ">\n",
      "> Data that can be changed is called [mutable](../../gloss.html#mutable),\n",
      "> while data that cannot be is called [immutable](../../gloss.html#immutable).\n",
      "> Like strings,\n",
      "> numbers are immutable:\n",
      "> there's no way to make the number 0 have the value 1 or vice versa\n",
      "> (at least, not in Python&mdash;there actually *are* languages that will let people do this,\n",
      "> with predictably confusing results).\n",
      "> Lists and arrays,\n",
      "> on the other hand,\n",
      "> are mutable:\n",
      "> both can be modified after they have been created.\n",
      ">\n",
      "> Programs that modify data in place can be harder to understand than ones that don't\n",
      "> because readers may have to mentally sum up many lines of code\n",
      "> in order to figure out what the value of something actually is.\n",
      "> On the other hand,\n",
      "> programs that modify data in place instead of creating copies that are almost identical to the original\n",
      "> every time they want to make a small change\n",
      "> are much more efficient.\n",
      "\n",
      "There are many ways to change the contents of in lists besides assigning to elements:"
     ]
    },
    {
     "cell_type": "code",
     "collapsed": false,
     "input": [
      "odds.append(11)\n",
      "print 'odds after adding a value:', odds"
     ],
     "language": "python",
     "metadata": {
      "cell_tags": []
     },
     "outputs": [
      {
       "output_type": "stream",
       "stream": "stdout",
       "text": [
        "odds after adding a value: [1, 3, 5, 7, 11]\n"
       ]
      }
     ],
     "prompt_number": 18
    },
    {
     "cell_type": "code",
     "collapsed": false,
     "input": [
      "del odds[0]\n",
      "print 'odds after removing the first element:', odds"
     ],
     "language": "python",
     "metadata": {
      "cell_tags": []
     },
     "outputs": [
      {
       "output_type": "stream",
       "stream": "stdout",
       "text": [
        "odds after removing the first element: [3, 5, 7, 11]\n"
       ]
      }
     ],
     "prompt_number": 19
    },
    {
     "cell_type": "code",
     "collapsed": false,
     "input": [
      "odds.reverse()\n",
      "print 'odds after reversing:', odds"
     ],
     "language": "python",
     "metadata": {
      "cell_tags": []
     },
     "outputs": [
      {
       "output_type": "stream",
       "stream": "stdout",
       "text": [
        "odds after reversing: [11, 7, 5, 3]\n"
       ]
      }
     ],
     "prompt_number": 20
    },
    {
     "cell_type": "markdown",
     "metadata": {
      "cell_tags": [
       "challenges"
      ]
     },
     "source": [
      "#### Challenges\n",
      "\n",
      "1.  Write a function called `total` that calculates the sum of the values in a list.\n",
      "    (Python has a built-in function called `sum` that does this for you.\n",
      "    Please don't use it for this exercise.)"
     ]
    },
    {
     "cell_type": "heading",
     "level": 3,
     "metadata": {
      "cell_tags": []
     },
     "source": [
      "Processing Multiple Files"
     ]
    },
    {
     "cell_type": "markdown",
     "metadata": {
      "cell_tags": []
     },
     "source": [
      "We now have almost everything we need to process all our data files.\n",
      "The only thing that's missing is a library with a rather unpleasant name:"
     ]
    },
    {
     "cell_type": "code",
     "collapsed": false,
     "input": [
      "import glob"
     ],
     "language": "python",
     "metadata": {
      "cell_tags": []
     },
     "outputs": [],
     "prompt_number": 21
    },
    {
     "cell_type": "markdown",
     "metadata": {
      "cell_tags": []
     },
     "source": [
      "The `glob` library contains a single function, also called `glob`,\n",
      "that finds files whose names match a pattern.\n",
      "We provide those patterns as strings:\n",
      "the character `*` matches zero or more characters,\n",
      "while `?` matches any one character.\n",
      "We can use this to get the names of all the IPython Notebooks we have created so far:"
     ]
    },
    {
     "cell_type": "code",
     "collapsed": false,
     "input": [
      "print glob.glob('*.ipynb')"
     ],
     "language": "python",
     "metadata": {
      "cell_tags": []
     },
     "outputs": [
      {
       "output_type": "stream",
       "stream": "stdout",
       "text": [
        "['02-modularization-documentation.ipynb', '00-intro-notebook.ipynb', '03-loop.ipynb', '01-intro-python.ipynb']\n"
       ]
      }
     ],
     "prompt_number": 22
    },
    {
     "cell_type": "markdown",
     "metadata": {
      "cell_tags": []
     },
     "source": [
      "or to get the names of all our CSV data files:"
     ]
    },
    {
     "cell_type": "code",
     "collapsed": false,
     "input": [
      "print glob.glob('*.csv')"
     ],
     "language": "python",
     "metadata": {
      "cell_tags": []
     },
     "outputs": [
      {
       "output_type": "stream",
       "stream": "stdout",
       "text": [
        "['A2_mosquito_data.csv', 'A1_mosquito_data.csv', 'B1_mosquito_data.csv', 'B2_mosquito_data.csv', 'A3_mosquito_data.csv']\n"
       ]
      }
     ],
     "prompt_number": 23
    },
    {
     "cell_type": "code",
     "collapsed": false,
     "input": [
      "filenames = glob.glob('*data.csv')\n",
      "for filename in filenames:\n",
      "    print filename"
     ],
     "language": "python",
     "metadata": {},
     "outputs": [
      {
       "output_type": "stream",
       "stream": "stdout",
       "text": [
        "A2_mosquito_data.csv\n",
        "A1_mosquito_data.csv\n",
        "B1_mosquito_data.csv\n",
        "B2_mosquito_data.csv\n",
        "A3_mosquito_data.csv\n"
       ]
      }
     ],
     "prompt_number": 25
    },
    {
     "cell_type": "markdown",
     "metadata": {
      "cell_tags": []
     },
     "source": [
      "As these examples show,\n",
      "`glob.glob`'s result is a list of strings,\n",
      "which means we can loop over it\n",
      "to do something with each filename in turn.\n",
      "In our case,\n",
      "the \"something\" we want is our `analyze` function."
     ]
    },
    {
     "cell_type": "markdown",
     "metadata": {},
     "source": [
      "#### Challenge\n",
      "\n",
      "Modify your code to loop over all of the files in your directory,\n",
      "making an observed-predicted plot for each file and printing the parameters."
     ]
    },
    {
     "cell_type": "markdown",
     "metadata": {
      "cell_tags": []
     },
     "source": [
      "#### Key Points\n",
      "\n",
      "*   Use `for variable in collection` to process the elements of a collection one at a time.\n",
      "*   The body of a for loop must be indented.\n",
      "*   Use `len(thing)` to determine the length of something that contains other values.\n",
      "*   `[value1, value2, value3, ...]` creates a list.\n",
      "*   Lists are indexed and sliced in the same way as strings and arrays.\n",
      "*   Lists are mutable (i.e., their values can be changed in place).\n",
      "*   Strings are immutable (i.e., the characters in them cannot be changed).\n",
      "*   Use `glob.glob(pattern)` to create a list of files whose names match a pattern.\n",
      "*   Use `*` in a pattern to match zero or more characters, and `?` to match any single character."
     ]
    },
    {
     "cell_type": "markdown",
     "metadata": {
      "cell_tags": []
     },
     "source": [
      "#### Next Steps\n",
      "\n",
      "We have now solved our original problem:\n",
      "we can analyze any number of data files with a single script.\n",
      "More importantly,\n",
      "we have met two of the most important ideas in programming:\n",
      "\n",
      "1.  Use functions to make code easier to re-use and easier to understand.\n",
      "1.  Use lists and arrays to store related values, and loops to repeat operations on them."
     ]
    }
   ],
   "metadata": {}
  }
 ]
}