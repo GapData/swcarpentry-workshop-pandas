{
 "metadata": {
  "name": "",
  "signature": "sha256:db0292ae6278ec099066653bb054ff8b43c5d15fd2b598c3b6257a7faa21ecf2"
 },
 "nbformat": 3,
 "nbformat_minor": 0,
 "worksheets": [
  {
   "cells": [
    {
     "cell_type": "heading",
     "level": 2,
     "metadata": {
      "cell_tags": []
     },
     "source": [
      "Creating a Python module"
     ]
    },
    {
     "cell_type": "markdown",
     "metadata": {},
     "source": [
      "Python functions can be saved into files and imported into IPython notebooks or used by Python scripts.\n",
      "It is very useful to create libraries of reusable code that can be tested, improved over time and shared."
     ]
    },
    {
     "cell_type": "markdown",
     "metadata": {
      "cell_tags": []
     },
     "source": [
      "Any file with a `.py` extensions is a module and any function defined in that file can be imported."
     ]
    },
    {
     "cell_type": "markdown",
     "metadata": {},
     "source": [
      "Create a new file with your editor (Notepad++ on windows, Textwrangler on Mac) and paste the functions defined earlier,\n",
      "do not copy `%matplotlib inlie` because it is notebook-specific."
     ]
    },
    {
     "cell_type": "code",
     "collapsed": false,
     "input": [
      "import pandas as pd\n",
      "import statsmodels.api as sm\n",
      "import matplotlib.pyplot as plt\n",
      "\n",
      "def fahr_to_celsius(tempF):\n",
      "    \"\"\"Convert fahrenheit to celsius\"\"\"\n",
      "    tempC = (tempF - 32) * 5 / 9.0\n",
      "    return tempC\n",
      "\n",
      "def analyze(data):\n",
      "    \"\"\"Perform regression analysis on mosquito data\n",
      "    \n",
      "    Takes a dataframe as input that includes columns named 'temperature',\n",
      "    'rainfall', and 'mosquitos'.\n",
      "        \n",
      "    For consistency, always use temperature in Celsius.\n",
      "    \n",
      "    Performs a multiple regression to predict the number of mosquitos.\n",
      "    Creates an observed-predicted plot of the result and\n",
      "    returns the parameters of the regression.\n",
      "    \n",
      "    \"\"\"\n",
      "    regr_results = sm.OLS.from_formula('mosquitos ~ temperature + rainfall', data).fit()\n",
      "    parameters = regr_results.params\n",
      "    predicted = parameters['Intercept'] + parameters['temperature'] * data['temperature'] + parameters['rainfall'] * data['rainfall']\n",
      "    plt.figure()\n",
      "    plt.plot(predicted, data['mosquitos'], 'ro')\n",
      "    min_mosquitos, max_mosquitos = min(data['mosquitos']), max(data['mosquitos'])\n",
      "    plt.plot([min_mosquitos, max_mosquitos], [min_mosquitos, max_mosquitos], 'k-')\n",
      "    return parameters"
     ],
     "language": "python",
     "metadata": {
      "cell_tags": []
     },
     "outputs": [],
     "prompt_number": 1
    },
    {
     "cell_type": "markdown",
     "metadata": {},
     "source": [
      "Save the file as \"analyze_mosquito_data_lib.py\" in the **same folder** where you started the IPython notebook (`~/swc`)"
     ]
    },
    {
     "cell_type": "code",
     "collapsed": false,
     "input": [
      "from analyze_mosquito_data_lib import analyze, fahr_to_celsius"
     ],
     "language": "python",
     "metadata": {},
     "outputs": [],
     "prompt_number": 1
    },
    {
     "cell_type": "code",
     "collapsed": false,
     "input": [
      "%matplotlib inline"
     ],
     "language": "python",
     "metadata": {},
     "outputs": [],
     "prompt_number": 4
    },
    {
     "cell_type": "code",
     "collapsed": false,
     "input": [
      "import pandas as pd\n",
      "data = pd.read_csv('B2_mosquito_data.csv')\n",
      "data['temperature'] = fahr_to_celsius(data['temperature'])\n",
      "parameters = analyze(data)\n",
      "print parameters"
     ],
     "language": "python",
     "metadata": {},
     "outputs": [
      {
       "output_type": "stream",
       "stream": "stdout",
       "text": [
        "Intercept      27.188887\n",
        "temperature     1.204897\n",
        "rainfall        0.695531\n",
        "dtype: float64\n"
       ]
      },
      {
       "metadata": {},
       "output_type": "display_data",
       "png": "[encoded data removed]",
       "text": [
        "<matplotlib.figure.Figure at 0x7f0bfe8ece10>"
       ]
      }
     ],
     "prompt_number": 5
    },
    {
     "cell_type": "markdown",
     "metadata": {},
     "source": [
      "It is important to understand the workflow:\n",
      "\n",
      "* Use the notebook for exploratory analysis\n",
      "* Develop and test analysis strategies in the notebook cell by cell\n",
      "* Consolidate in functions, with docstrings\n",
      "* Save functions in external `.py` files\n",
      "* For any new analysis create a new IPython notebook and load the functions from the module"
     ]
    },
    {
     "cell_type": "markdown",
     "metadata": {},
     "source": [
      "#### Next steps\n",
      "\n",
      "In the lession about version control we will see how to track improvements to our module"
     ]
    }
   ],
   "metadata": {}
  }
 ]
}